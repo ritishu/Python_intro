{
  "nbformat": 4,
  "nbformat_minor": 0,
  "metadata": {
    "colab": {
      "name": "Day03.ipynb",
      "provenance": [],
      "authorship_tag": "ABX9TyMixDu0StfQjElHa+p7PESd",
      "include_colab_link": true
    },
    "kernelspec": {
      "name": "python3",
      "display_name": "Python 3"
    },
    "language_info": {
      "name": "python"
    }
  },
  "cells": [
    {
      "cell_type": "markdown",
      "metadata": {
        "id": "view-in-github",
        "colab_type": "text"
      },
      "source": [
        "<a href=\"https://colab.research.google.com/github/ritishu/Python_intro/blob/main/Day03.ipynb\" target=\"_parent\"><img src=\"https://colab.research.google.com/assets/colab-badge.svg\" alt=\"Open In Colab\"/></a>"
      ]
    },
    {
      "cell_type": "code",
      "execution_count": 1,
      "metadata": {
        "id": "bqQP_YmLgTl0"
      },
      "outputs": [],
      "source": [
        "vehicle_bucket = ['TNO1','KA03','TS01','KA04','AP04','KL01','TS03']"
      ]
    },
    {
      "cell_type": "code",
      "source": [
        "type(vehicle_bucket)"
      ],
      "metadata": {
        "colab": {
          "base_uri": "https://localhost:8080/"
        },
        "id": "RAqSBld2h_tO",
        "outputId": "9a414960-7139-474c-dbb4-853681f9e3a2"
      },
      "execution_count": 2,
      "outputs": [
        {
          "output_type": "execute_result",
          "data": {
            "text/plain": [
              "list"
            ]
          },
          "metadata": {},
          "execution_count": 2
        }
      ]
    },
    {
      "cell_type": "code",
      "source": [
        "KA_vehicle = []\n"
      ],
      "metadata": {
        "id": "ow1kw2I2iFlx"
      },
      "execution_count": 3,
      "outputs": []
    },
    {
      "cell_type": "code",
      "source": [
        "for each_item in vehicle_bucket:\n",
        "  if 'KA' in each_item: ##if each item has substring KA\n",
        "    KA_vehicle.append(each_item)"
      ],
      "metadata": {
        "id": "_HGyyN3yiI65"
      },
      "execution_count": 4,
      "outputs": []
    },
    {
      "cell_type": "code",
      "source": [
        "KA_vehicle"
      ],
      "metadata": {
        "colab": {
          "base_uri": "https://localhost:8080/"
        },
        "id": "Y_k4PwEQiR4f",
        "outputId": "7cf82d63-e664-48ae-c5a4-cb827a98318b"
      },
      "execution_count": 5,
      "outputs": [
        {
          "output_type": "execute_result",
          "data": {
            "text/plain": [
              "['KA03', 'KA04']"
            ]
          },
          "metadata": {},
          "execution_count": 5
        }
      ]
    },
    {
      "cell_type": "code",
      "source": [
        "## list comprehension\n",
        "KA_list = [each_item for each_item in vehicle_bucket if 'KA' in each_item]"
      ],
      "metadata": {
        "id": "btSJ0Vcqibzz"
      },
      "execution_count": 6,
      "outputs": []
    },
    {
      "cell_type": "code",
      "source": [
        "KA_list"
      ],
      "metadata": {
        "colab": {
          "base_uri": "https://localhost:8080/"
        },
        "id": "zoAg1aamip1r",
        "outputId": "a4d0893a-a08d-4db9-87e5-149610e31fdd"
      },
      "execution_count": 7,
      "outputs": [
        {
          "output_type": "execute_result",
          "data": {
            "text/plain": [
              "['KA03', 'KA04']"
            ]
          },
          "metadata": {},
          "execution_count": 7
        }
      ]
    },
    {
      "cell_type": "code",
      "source": [
        "import random"
      ],
      "metadata": {
        "id": "XI9U4LTBjCVu"
      },
      "execution_count": 8,
      "outputs": []
    },
    {
      "cell_type": "code",
      "source": [
        "# gives a real number between 0 and 1\n",
        "random.random()"
      ],
      "metadata": {
        "colab": {
          "base_uri": "https://localhost:8080/"
        },
        "id": "GouslwVBjGry",
        "outputId": "8011592c-e255-494d-c4a3-3aeaf7850b40"
      },
      "execution_count": 9,
      "outputs": [
        {
          "output_type": "execute_result",
          "data": {
            "text/plain": [
              "0.9799188194729183"
            ]
          },
          "metadata": {},
          "execution_count": 9
        }
      ]
    },
    {
      "cell_type": "code",
      "source": [
        "type(random.random())"
      ],
      "metadata": {
        "colab": {
          "base_uri": "https://localhost:8080/"
        },
        "id": "hTgOwMu4jNbb",
        "outputId": "f3d18351-5fb9-492b-c080-86f71ee63792"
      },
      "execution_count": 10,
      "outputs": [
        {
          "output_type": "execute_result",
          "data": {
            "text/plain": [
              "float"
            ]
          },
          "metadata": {},
          "execution_count": 10
        }
      ]
    },
    {
      "cell_type": "code",
      "source": [
        "#generates a random interger between lower and upper bound\n",
        "random.randint(2, 8)"
      ],
      "metadata": {
        "colab": {
          "base_uri": "https://localhost:8080/"
        },
        "id": "MBgnJyoMjRg0",
        "outputId": "9bf1cac1-aad6-484d-b487-783293a0b207"
      },
      "execution_count": 13,
      "outputs": [
        {
          "output_type": "execute_result",
          "data": {
            "text/plain": [
              "7"
            ]
          },
          "metadata": {},
          "execution_count": 13
        }
      ]
    },
    {
      "cell_type": "code",
      "source": [
        "my_random_list = [random.random() for i in  range(20)] #i will give from 0 to 19"
      ],
      "metadata": {
        "id": "3x7rU4oIjglF"
      },
      "execution_count": 14,
      "outputs": []
    },
    {
      "cell_type": "code",
      "source": [
        "my_random_list"
      ],
      "metadata": {
        "colab": {
          "base_uri": "https://localhost:8080/"
        },
        "id": "_fNVLGWfjqtQ",
        "outputId": "48fe3837-7df1-44ce-fdc9-c71953e18311"
      },
      "execution_count": 15,
      "outputs": [
        {
          "output_type": "execute_result",
          "data": {
            "text/plain": [
              "[0.8534718050112768,\n",
              " 0.9226282437538862,\n",
              " 0.6406241477672661,\n",
              " 0.96956226301593,\n",
              " 0.060233567802622456,\n",
              " 0.6448284563133623,\n",
              " 0.12347181919781158,\n",
              " 0.8134978955356637,\n",
              " 0.06205105803017996,\n",
              " 0.8166363575762768,\n",
              " 0.6090991560491755,\n",
              " 0.11135819643232914,\n",
              " 0.33397818897972875,\n",
              " 0.3760584062182998,\n",
              " 0.8165114498337951,\n",
              " 0.19140928865915963,\n",
              " 0.10829878898175127,\n",
              " 0.5261080971849484,\n",
              " 0.013074081706539786,\n",
              " 0.13673267168390857]"
            ]
          },
          "metadata": {},
          "execution_count": 15
        }
      ]
    },
    {
      "cell_type": "code",
      "source": [
        "len(my_random_list)"
      ],
      "metadata": {
        "colab": {
          "base_uri": "https://localhost:8080/"
        },
        "id": "AFx2jbH2jvJi",
        "outputId": "5a69e058-78d5-4d59-a40a-23c02708cc91"
      },
      "execution_count": 16,
      "outputs": [
        {
          "output_type": "execute_result",
          "data": {
            "text/plain": [
              "20"
            ]
          },
          "metadata": {},
          "execution_count": 16
        }
      ]
    },
    {
      "cell_type": "code",
      "source": [
        "my_random_list = [random.randint(18,24) for i in range(19)]"
      ],
      "metadata": {
        "id": "nzMLKcMVkC8Q"
      },
      "execution_count": 17,
      "outputs": []
    },
    {
      "cell_type": "code",
      "source": [
        "my_random_list"
      ],
      "metadata": {
        "id": "WnGBIM1IkLdd"
      },
      "execution_count": null,
      "outputs": []
    },
    {
      "cell_type": "code",
      "source": [
        "for each_item in my_random_list:print(each_item,end ='hi')"
      ],
      "metadata": {
        "colab": {
          "base_uri": "https://localhost:8080/"
        },
        "id": "gowTG96nkNp0",
        "outputId": "4e8b331f-bddf-4c17-8727-da6e3c9879f3"
      },
      "execution_count": 22,
      "outputs": [
        {
          "output_type": "stream",
          "name": "stdout",
          "text": [
            "24hi20hi22hi24hi19hi24hi19hi23hi18hi24hi19hi23hi22hi24hi23hi22hi18hi21hi24hi"
          ]
        }
      ]
    },
    {
      "cell_type": "code",
      "source": [
        "import matplotlib.pyplot as plt"
      ],
      "metadata": {
        "id": "7k5M5NZgkoDD"
      },
      "execution_count": 23,
      "outputs": []
    },
    {
      "cell_type": "code",
      "source": [
        "import math"
      ],
      "metadata": {
        "id": "B80O7T5jleXj"
      },
      "execution_count": 31,
      "outputs": []
    },
    {
      "cell_type": "code",
      "source": [
        "my_sqrt_list = [math.sqrt(each_item) for each_item in my_random_list]"
      ],
      "metadata": {
        "id": "eYC0_RFIlY6K"
      },
      "execution_count": 32,
      "outputs": []
    },
    {
      "cell_type": "code",
      "source": [
        "plt.xlabel('X')\n",
        "plt.ylabel('Random(X)')\n",
        "plt.plot(my_random_list,label = 'random function');#printing numbers of random_list with index\n",
        "plt.plot(my_sqrt_list,label = 'sqrt function');\n",
        "plt.legend(); "
      ],
      "metadata": {
        "colab": {
          "base_uri": "https://localhost:8080/",
          "height": 279
        },
        "id": "Hz9Xk9z-kxqI",
        "outputId": "7c964e0a-f6c7-4b68-ac02-93e8f4065e43"
      },
      "execution_count": 34,
      "outputs": [
        {
          "output_type": "display_data",
          "data": {
            "image/png": "[encoded data removed]",
            "text/plain": [
              "<Figure size 432x288 with 1 Axes>"
            ]
          },
          "metadata": {
            "needs_background": "light"
          }
        }
      ]
    },
    {
      "cell_type": "code",
      "source": [
        "#dictionary comprehension\n",
        "names = ['abc','bcd','bcf','cde','cdf']\n",
        "grades = [1,'B','O','A','B','j'] #it is starting mapping from starting"
      ],
      "metadata": {
        "id": "6-eCRlzLoCAJ"
      },
      "execution_count": 136,
      "outputs": []
    },
    {
      "cell_type": "code",
      "source": [
        "my_class = zip(names, grades)"
      ],
      "metadata": {
        "id": "tWjJxr8Ko4Ce"
      },
      "execution_count": 137,
      "outputs": []
    },
    {
      "cell_type": "code",
      "source": [
        "type(my_class)"
      ],
      "metadata": {
        "colab": {
          "base_uri": "https://localhost:8080/"
        },
        "id": "JNjLCpDipA6v",
        "outputId": "d49718e5-4d49-4829-f10f-562f1f2c9a0d"
      },
      "execution_count": 112,
      "outputs": [
        {
          "output_type": "execute_result",
          "data": {
            "text/plain": [
              "zip"
            ]
          },
          "metadata": {},
          "execution_count": 112
        }
      ]
    },
    {
      "cell_type": "code",
      "source": [
        "dict(my_class)"
      ],
      "metadata": {
        "colab": {
          "base_uri": "https://localhost:8080/"
        },
        "id": "7GIFGb-YqCEK",
        "outputId": "5fd52933-66ae-46a5-9955-41ce729531f1"
      },
      "execution_count": 135,
      "outputs": [
        {
          "output_type": "execute_result",
          "data": {
            "text/plain": [
              "{'abc': 1, 'bcd': 'B', 'bcf': 'O', 'cde': 'A', 'cdf': 'B'}"
            ]
          },
          "metadata": {},
          "execution_count": 135
        }
      ]
    },
    {
      "cell_type": "code",
      "source": [
        "#type conversion\n",
        "my_class = dict(my_class)"
      ],
      "metadata": {
        "id": "dTZErdzFpDv6"
      },
      "execution_count": 138,
      "outputs": []
    },
    {
      "cell_type": "code",
      "source": [
        "for each_item in my_class.items(): print(each_item)"
      ],
      "metadata": {
        "colab": {
          "base_uri": "https://localhost:8080/"
        },
        "id": "iddER4bjppQX",
        "outputId": "1089806c-8590-4a42-8535-86e78fd5cbbb"
      },
      "execution_count": 139,
      "outputs": [
        {
          "output_type": "stream",
          "name": "stdout",
          "text": [
            "('abc', 1)\n",
            "('bcd', 'B')\n",
            "('bcf', 'O')\n",
            "('cde', 'A')\n",
            "('cdf', 'B')\n"
          ]
        }
      ]
    },
    {
      "cell_type": "code",
      "source": [
        "#dictionay initialized with{}\n",
        "my_student_b = { key:values for key, values in my_class.items() if \"b\" in key}"
      ],
      "metadata": {
        "id": "pabceR-CpQEI"
      },
      "execution_count": 140,
      "outputs": []
    },
    {
      "cell_type": "code",
      "source": [
        "type(my_student_b)"
      ],
      "metadata": {
        "colab": {
          "base_uri": "https://localhost:8080/"
        },
        "id": "_UUzKibzqHDp",
        "outputId": "91c62b53-d5a3-49ed-e205-b76d7a6ff0a8"
      },
      "execution_count": 120,
      "outputs": [
        {
          "output_type": "execute_result",
          "data": {
            "text/plain": [
              "dict"
            ]
          },
          "metadata": {},
          "execution_count": 120
        }
      ]
    },
    {
      "cell_type": "code",
      "source": [
        "my_student_b"
      ],
      "metadata": {
        "colab": {
          "base_uri": "https://localhost:8080/"
        },
        "id": "GYKqSAyhqMkD",
        "outputId": "31551d28-f9c8-415e-a630-1b3e41094b49"
      },
      "execution_count": 141,
      "outputs": [
        {
          "output_type": "execute_result",
          "data": {
            "text/plain": [
              "{'abc': 1, 'bcd': 'B', 'bcf': 'O'}"
            ]
          },
          "metadata": {},
          "execution_count": 141
        }
      ]
    }
  ]
}